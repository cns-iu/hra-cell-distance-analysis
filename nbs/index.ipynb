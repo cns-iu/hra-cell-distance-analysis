{
 "cells": [
  {
   "cell_type": "markdown",
   "metadata": {},
   "source": [
    "# Cell Distance Analysis for Spatial Omics Datasets\n",
    "\n",
    "> Cell Distance Analysis for Spatial Omics Datasets, primarily focused on vascular cells.\n"
   ]
  },
  {
   "cell_type": "markdown",
   "metadata": {},
   "source": [
    "\n",
    "> The notebooks are designed to process and analyze the distances between cells in spatial omics datasets, with a\n",
    "> particular focus on endothelial cells. They calculate the distances between all pairs of cells and\n",
    "> visualize the distribution of these distances. The notebooks also include functionality to filter\n",
    "> the data based on specific cell types and to visualize the results using histograms, violin plots, and other visualizations."
   ]
  },
  {
   "cell_type": "markdown",
   "metadata": {},
   "source": [
    "## Preprint\n",
    "Preprint of the paper describing the work is available on bioRxiv ([https://www.biorxiv.org/content/10.1101/2025.09.23.678129v1](https://www.biorxiv.org/content/10.1101/2025.09.23.678129v1)).\n",
    "\n",
    "## Data Availability\n",
    "All datasets (cell coordinates and cell types) used in the paper, original and processed (including harmonized cell type labels), are made publicly available ([https://drive.google.com/drive/folders/1VYhnCay3j4Oe1BMidTvKOxSGz9nrcJyc?usp=sharing](https://drive.google.com/drive/folders/1VYhnCay3j4Oe1BMidTvKOxSGz9nrcJyc?usp=sharing)).\n",
    "\n",
    "For more information and original imaging datasets for individual studies used in this paper, see relevant citations in the *Methods* section in the paper. \n",
    "\n",
    "Pancreas dataset (GeoMX) is available on Figshare ([https://figshare.com/projects/HuBMAP_TMC_-_Pacific_Northwest_National_Laboratory_GeoMX_DSP_Images/256367](https://figshare.com/projects/HuBMAP_TMC_-_Pacific_Northwest_National_Laboratory_GeoMX_DSP_Images/256367)).\n",
    "\n",
    "## Code Availability\n",
    "All code for data processing and analysis for distance analysis is available on GitHub ([https://github.com/cns-iu/hra-cell-distance-analysis](https://github.com/cns-iu/hra-cell-distance-analysis)). \n",
    "\n",
    "Rendered Jupyter notebooks for the entire workflow are also available on GitHub Pages ([https://cns-iu.github.io/hra-cell-distance-analysis](https://cns-iu.github.io/hra-cell-distance-analysis)). \n",
    "\n",
    "The file containing all cell types, original and 3-level typology, mapped to Cell Ontology, is available as a CSV file on GitHub ([https://github.com/cns-iu/hra-cell-distance-analysis/blob/main/data/mapping_files/generated_cell_type_complete_crosswalk.csv](https://github.com/cns-iu/hra-cell-distance-analysis/blob/main/data/mapping_files/generated_cell_type_complete_crosswalk.csv)). \n",
    "\n",
    "Code for hierarchical neighborhood analysis is available on GitHub ([https://github.com/HickeyLab/Vasculature_neighborhoods](https://github.com/HickeyLab/Vasculature_neighborhoods)). \n",
    "\n",
    "The Cell Distance Explorer application is available on the Human Reference Atlas website ([https://apps.humanatlas.io/cde](https://apps.humanatlas.io/cde)). \n",
    "\n",
    "More information, including usage tutorial, about the CDE can be found at ([https://humanatlas.io/user-story/5](https://humanatlas.io/user-story/5)). \n",
    "\n",
    "The python package for CDE can be found as part of HRA Jupyter Widgets ([https://github.com/x-atlas-consortia/hra-jupyter-widgets/](https://github.com/x-atlas-consortia/hra-jupyter-widgets/)). \n",
    "\n",
    "Documentation to embed the CDE in webpages as a lightweight component is available at ([https://github.com/hubmapconsortium/hra-ui/blob/main/apps/cde-visualization-wc/EMBEDDING.md](https://github.com/hubmapconsortium/hra-ui/blob/main/apps/cde-visualization-wc/EMBEDDING.md)). "
   ]
  },
  {
   "cell_type": "markdown",
   "metadata": {},
   "source": [
    "## For Developers\n",
    "\n",
    "The repository uses [`quarto`](https://quarto.org/) for documentation and [`nbdev`](https://nbdev.fast.ai/) for notebook processing.\n",
    "\n",
    "To update the README file from the `nbs/index.ipynb` notebook, run the following command in the root directory of the repository:\n",
    "\n",
    "```\n",
    "nbdev_readme\n",
    "```\n",
    "\n",
    "Then, to save the notebooks and render them using the `nbdev` library, you can run the following command in the root directory of the repository:\n",
    "\n",
    "```\n",
    "rm -rf _proc && nbdev_proc_nbs && cd _proc && quarto publish gh-pages --no-prompt\n",
    "```\n",
    "\n",
    "Then, push to GitHub:\n",
    "\n",
    "```\n",
    "git add .\n",
    "git commit -m 'Updated repo' # Update this text with your own message\n",
    "git push\n",
    "```\n",
    "\n",
    "The rendered and deployed notebooks will be available via GitHub Pages at the following URL:\n",
    "\n",
    "[https://cns-iu.github.io/hra-cell-distance-analysis](https://cns-iu.github.io/hra-cell-distance-analysis)"
   ]
  }
 ],
 "metadata": {
  "kernelspec": {
   "display_name": "python3",
   "language": "python",
   "name": "python3"
  }
 },
 "nbformat": 4,
 "nbformat_minor": 4
}
