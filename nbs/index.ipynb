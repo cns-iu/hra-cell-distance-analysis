{
 "cells": [
  {
   "cell_type": "markdown",
   "metadata": {},
   "source": [
    "# Cell Distance Analysis for Spatial Omics Datasets\n",
    "\n",
    "> Cell Distance Analysis for Spatial Omics Datasets, primarily focused on vascular cells.\n"
   ]
  },
  {
   "cell_type": "markdown",
   "metadata": {},
   "source": [
    "\n",
    "> The notebooks are designed to process and analyze the distances between cells in spatial omics datasets, with a\n",
    "> particular focus on endothelial cells. They calculate the distances between all pairs of cells and\n",
    "> visualize the distribution of these distances. The notebooks also include functionality to filter\n",
    "> the data based on specific cell types and to visualize the results using histograms, violin plots, and other visualizations."
   ]
  },
  {
   "cell_type": "markdown",
   "metadata": {},
   "source": [
    "## For Developers\n",
    "\n",
    "The repository uses [`quarto`](https://quarto.org/) for documentation and [`nbdev`](https://nbdev.fast.ai/) for notebook processing.\n",
    "\n",
    "To update the README file from the `nbs/index.ipynb` notebook, run the following command in the root directory of the repository:\n",
    "\n",
    "```\n",
    "nbdev_readme\n",
    "```\n",
    "\n",
    "Then, to save the notebooks and render them using the `nbdev` library, you can run the following command in the root directory of the repository:\n",
    "\n",
    "```\n",
    "rm -rf _proc && nbdev_proc_nbs && cd _proc && quarto publish gh-pages --no-prompt\n",
    "```\n",
    "\n",
    "Then, push to GitHub:\n",
    "\n",
    "```\n",
    "git add .\n",
    "git commit -m 'Updated repo' # Update this text with your own message\n",
    "git push\n",
    "```\n",
    "\n",
    "The rendered and deployed notebooks will be available via GitHub Pages at the following URL:\n",
    "\n",
    "[https://cns-iu.github.io/hra-cell-distance-analysis](https://cns-iu.github.io/hra-cell-distance-analysis)"
   ]
  }
 ],
 "metadata": {
  "kernelspec": {
   "display_name": "python3",
   "language": "python",
   "name": "python3"
  }
 },
 "nbformat": 4,
 "nbformat_minor": 4
}
